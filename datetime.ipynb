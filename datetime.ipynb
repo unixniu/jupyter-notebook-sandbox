{
 "cells": [
  {
   "cell_type": "code",
   "execution_count": 10,
   "metadata": {
    "collapsed": false
   },
   "outputs": [],
   "source": [
    "import pandas as pd\n",
    "import numpy as np\n",
    "\n",
    "pd.options.display.max_rows = 10\n",
    "pd.options.display.precision = 3"
   ]
  },
  {
   "cell_type": "code",
   "execution_count": 11,
   "metadata": {
    "collapsed": false
   },
   "outputs": [
    {
     "data": {
      "text/plain": [
       "2012-01-01 00:00:00   -0.432\n",
       "2012-01-01 01:00:00    1.115\n",
       "2012-01-01 02:00:00    0.163\n",
       "2012-01-01 03:00:00   -0.756\n",
       "2012-01-01 04:00:00   -1.712\n",
       "                       ...  \n",
       "2012-01-03 19:00:00   -0.616\n",
       "2012-01-03 20:00:00    1.046\n",
       "2012-01-03 21:00:00    0.448\n",
       "2012-01-03 22:00:00   -1.924\n",
       "2012-01-03 23:00:00   -1.032\n",
       "Freq: H, dtype: float64"
      ]
     },
     "execution_count": 11,
     "metadata": {},
     "output_type": "execute_result"
    }
   ],
   "source": [
    "rng = pd.date_range('20120101', freq='H', periods=72)\n",
    "ts = pd.Series(np.random.randn(len(rng)), index=rng)\n",
    "ts"
   ]
  },
  {
   "cell_type": "code",
   "execution_count": 13,
   "metadata": {
    "collapsed": false
   },
   "outputs": [
    {
     "data": {
      "text/plain": [
       "2012-01-01 00:00:00   -0.432\n",
       "2012-01-01 00:30:00   -0.432\n",
       "2012-01-01 01:00:00    1.115\n",
       "2012-01-01 01:30:00    1.115\n",
       "2012-01-01 02:00:00    0.163\n",
       "                       ...  \n",
       "2012-01-03 21:00:00    0.448\n",
       "2012-01-03 21:30:00    0.448\n",
       "2012-01-03 22:00:00   -1.924\n",
       "2012-01-03 22:30:00   -1.924\n",
       "2012-01-03 23:00:00   -1.032\n",
       "Freq: 30T, dtype: float64"
      ]
     },
     "execution_count": 13,
     "metadata": {},
     "output_type": "execute_result"
    }
   ],
   "source": [
    "ts.asfreq('30T', method='ffill')"
   ]
  },
  {
   "cell_type": "code",
   "execution_count": 14,
   "metadata": {
    "collapsed": false
   },
   "outputs": [
    {
     "data": {
      "text/plain": [
       "2012-01-01    0.015\n",
       "2012-01-02    0.096\n",
       "2012-01-03   -0.446\n",
       "Freq: D, dtype: float64"
      ]
     },
     "execution_count": 14,
     "metadata": {},
     "output_type": "execute_result"
    }
   ],
   "source": [
    "# downsample to daily and calc mean for values falling to a bin\n",
    "ts.resample('D').mean()"
   ]
  },
  {
   "cell_type": "code",
   "execution_count": 18,
   "metadata": {
    "collapsed": false
   },
   "outputs": [
    {
     "data": {
      "text/plain": [
       "2012-01-01 00:00:00   -0.432\n",
       "2012-01-01 00:30:00      NaN\n",
       "2012-01-01 01:00:00    1.115\n",
       "2012-01-01 01:30:00      NaN\n",
       "2012-01-01 02:00:00    0.163\n",
       "                       ...  \n",
       "2012-01-03 21:00:00    0.448\n",
       "2012-01-03 21:30:00      NaN\n",
       "2012-01-03 22:00:00   -1.924\n",
       "2012-01-03 22:30:00      NaN\n",
       "2012-01-03 23:00:00   -1.032\n",
       "Freq: 30T, dtype: float64"
      ]
     },
     "execution_count": 18,
     "metadata": {},
     "output_type": "execute_result"
    }
   ],
   "source": [
    "# upsample to 30min bins, resulting in NaN \n",
    "ts.resample('30T').asfreq()"
   ]
  },
  {
   "cell_type": "code",
   "execution_count": 19,
   "metadata": {
    "collapsed": false
   },
   "outputs": [
    {
     "data": {
      "text/plain": [
       "2012-01-01 00:00:00   -0.432\n",
       "2012-01-01 00:30:00   -0.432\n",
       "2012-01-01 01:00:00    1.115\n",
       "2012-01-01 01:30:00    1.115\n",
       "2012-01-01 02:00:00    0.163\n",
       "                       ...  \n",
       "2012-01-03 21:00:00    0.448\n",
       "2012-01-03 21:30:00    0.448\n",
       "2012-01-03 22:00:00   -1.924\n",
       "2012-01-03 22:30:00   -1.924\n",
       "2012-01-03 23:00:00   -1.032\n",
       "Freq: 30T, dtype: float64"
      ]
     },
     "execution_count": 19,
     "metadata": {},
     "output_type": "execute_result"
    }
   ],
   "source": [
    "# upsample to 30min and fill NaN values using pad method\n",
    "ts.resample('30T').pad()"
   ]
  }
 ],
 "metadata": {
  "kernelspec": {
   "display_name": "Python 3",
   "language": "python",
   "name": "python3"
  },
  "language_info": {
   "codemirror_mode": {
    "name": "ipython",
    "version": 3
   },
   "file_extension": ".py",
   "mimetype": "text/x-python",
   "name": "python",
   "nbconvert_exporter": "python",
   "pygments_lexer": "ipython3",
   "version": "3.5.1"
  }
 },
 "nbformat": 4,
 "nbformat_minor": 0
}
